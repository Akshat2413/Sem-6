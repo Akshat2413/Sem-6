{
 "cells": [
  {
   "cell_type": "code",
   "execution_count": null,
   "id": "5ce85bd9",
   "metadata": {},
   "outputs": [
    {
     "name": "stdout",
     "output_type": "stream",
     "text": [
      "Enter a Number (0-9) or type 'exit' to quit: 5\n",
      "5 is odd\n",
      "Enter a Number (0-9) or type 'exit' to quit: 4\n",
      "4 is even\n",
      "Enter a Number (0-9) or type 'exit' to quit: 0\n",
      "0 is even\n"
     ]
    }
   ],
   "source": [
    "import numpy as np  # Import NumPy\n",
    "\n",
    "# Step activation function\n",
    "step_function = lambda x: 1 if x >= 0 else 0\n",
    "\n",
    "# Training data: binary inputs and labels (even=1, odd=0)\n",
    "training_data = [\n",
    "    {'input': [1, 1, 0, 0, 0, 0], 'label': 1},\n",
    "    {'input': [1, 1, 0, 0, 0, 1], 'label': 0},\n",
    "    {'input': [1, 1, 0, 0, 1, 0], 'label': 1},\n",
    "    {'input': [1, 1, 0, 1, 1, 1], 'label': 0},\n",
    "    {'input': [1, 1, 0, 1, 0, 0], 'label': 1},\n",
    "    {'input': [1, 1, 0, 1, 0, 1], 'label': 0},\n",
    "    {'input': [1, 1, 0, 1, 1, 0], 'label': 1},\n",
    "    {'input': [1, 1, 0, 1, 1, 1], 'label': 0},\n",
    "    {'input': [1, 1, 1, 0, 0, 0], 'label': 1},\n",
    "    {'input': [1, 1, 1, 0, 0, 1], 'label': 0},\n",
    "]\n",
    "\n",
    "# Initialize weights\n",
    "weights = np.array([0, 0, 0, 0, 0, 0])\n",
    "\n",
    "# Train perceptron by updating weights\n",
    "for data in training_data:\n",
    "    input_data = np.array(data['input'])\n",
    "    label = data['label']\n",
    "    output = step_function(np.dot(input_data, weights))\n",
    "    error = label - output\n",
    "    weights += input_data * error\n",
    "\n",
    "# Prediction loop\n",
    "while True:\n",
    "    user_input_value = input(\"Enter a Number (0-9) or type 'exit' to quit: \")\n",
    "    \n",
    "    if user_input_value.lower() == 'exit':\n",
    "        break\n",
    "    \n",
    "    if not user_input_value.isdigit() or not (0 <= int(user_input_value) <= 9):\n",
    "        print(\"Please enter a valid number between 0 and 9.\")\n",
    "        continue\n",
    "\n",
    "    j = int(user_input_value)\n",
    "    # Convert number to 6-bit binary\n",
    "    input_data = np.array([int(x) for x in list('{0:06b}'.format(j))])\n",
    "    \n",
    "    # Predict even or odd\n",
    "    output = \"odd\" if step_function(np.dot(input_data, weights)) == 0 else \"even\"\n",
    "    print(j, \"is\", output)\n"
   ]
  },
  {
   "cell_type": "code",
   "execution_count": null,
   "id": "e60a25d2",
   "metadata": {},
   "outputs": [],
   "source": []
  }
 ],
 "metadata": {
  "kernelspec": {
   "display_name": "Python 3 (ipykernel)",
   "language": "python",
   "name": "python3"
  },
  "language_info": {
   "codemirror_mode": {
    "name": "ipython",
    "version": 3
   },
   "file_extension": ".py",
   "mimetype": "text/x-python",
   "name": "python",
   "nbconvert_exporter": "python",
   "pygments_lexer": "ipython3",
   "version": "3.11.5"
  }
 },
 "nbformat": 4,
 "nbformat_minor": 5
}
