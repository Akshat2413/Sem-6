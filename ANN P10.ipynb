{
 "cells": [
  {
   "cell_type": "code",
   "execution_count": null,
   "id": "49905ac2",
   "metadata": {},
   "outputs": [],
   "source": [
    "import tensorflow as tf\n",
    "import numpy as np\n",
    "import cv2\n",
    "from IPython.display import display, Image\n",
    "from PIL import Image as PILImage\n",
    "import io\n",
    "\n",
    "# Load the pre-trained model\n",
    "model = tf.saved_model.load('D:\\\\faster_rcnn_resnet50_v1_640x640_coco17_tpu-8\\\\saved_model')\n",
    "infer = model.signatures['serving_default']\n",
    "\n",
    "# Label map\n",
    "label_map = {1: 'person', 3: 'car', 18: 'dog'}\n",
    "\n",
    "# Load and preprocess image\n",
    "image = cv2.imread(\"image.jpg\")\n",
    "assert image is not None, \"Image not found. Please check the filename and path.\"\n",
    "image_rgb = cv2.cvtColor(image, cv2.COLOR_BGR2RGB)\n",
    "input_tensor = tf.convert_to_tensor(image_rgb, dtype=tf.uint8)\n",
    "input_tensor = tf.expand_dims(input_tensor, axis=0)\n",
    "\n",
    "# Run detection\n",
    "detections = infer(input_tensor)\n",
    "boxes = detections['detection_boxes'].numpy()[0]\n",
    "scores = detections['detection_scores'].numpy()[0]\n",
    "classes = detections['detection_classes'].numpy()[0].astype(int)\n",
    "\n",
    "# Filter detections\n",
    "threshold = 0.5\n",
    "indices = np.where(scores >= threshold)[0]\n",
    "filtered_boxes = boxes[indices]\n",
    "filtered_classes = classes[indices]\n",
    "\n",
    "# Draw boxes\n",
    "image_np = image_rgb.copy()\n",
    "h, w, _ = image_np.shape\n",
    "for box, cls in zip(filtered_boxes, filtered_classes):\n",
    "    ymin, xmin, ymax, xmax = box\n",
    "    ymin, xmin, ymax, xmax = int(ymin * h), int(xmin * w), int(ymax * h), int(xmax * w)\n",
    "    label = label_map.get(cls, 'Unknown')\n",
    "    cv2.rectangle(image_np, (xmin, ymin), (xmax, ymax), (0, 255, 0), 2)\n",
    "    cv2.putText(image_np, label, (xmin, max(0, ymin - 10)), cv2.FONT_HERSHEY_SIMPLEX, 0.9, (0, 255, 0), 2)\n",
    "\n",
    "# Convert to displayable format using PIL\n",
    "output_pil = PILImage.fromarray(image_np)\n",
    "buffer = io.BytesIO()\n",
    "output_pil.save(buffer, format=\"PNG\")\n",
    "display(Image(data=buffer.getvalue()))\n"
   ]
  },
  {
   "cell_type": "code",
   "execution_count": null,
   "id": "1830219f",
   "metadata": {},
   "outputs": [],
   "source": []
  }
 ],
 "metadata": {
  "kernelspec": {
   "display_name": "Python 3 (ipykernel)",
   "language": "python",
   "name": "python3"
  },
  "language_info": {
   "codemirror_mode": {
    "name": "ipython",
    "version": 3
   },
   "file_extension": ".py",
   "mimetype": "text/x-python",
   "name": "python",
   "nbconvert_exporter": "python",
   "pygments_lexer": "ipython3",
   "version": "3.11.5"
  }
 },
 "nbformat": 4,
 "nbformat_minor": 5
}
