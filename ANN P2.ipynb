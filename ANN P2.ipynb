{
 "cells": [
  {
   "cell_type": "code",
   "execution_count": 1,
   "id": "52a60269",
   "metadata": {},
   "outputs": [
    {
     "name": "stdout",
     "output_type": "stream",
     "text": [
      "X1\t X2\t Out\n",
      "0 \t 0 \t 0\n",
      "1 \t 0 \t 1\n",
      "0 \t 1 \t 0\n",
      "1 \t 1 \t 0\n"
     ]
    }
   ],
   "source": [
    "import numpy as np  # Import NumPy\n",
    "\n",
    "# MP neuron model\n",
    "def mp_neuron(inputs, weights, threshold):\n",
    "    weighted_sum = np.dot(inputs, weights)\n",
    "    output = 1 if weighted_sum >= threshold else 0\n",
    "    return output\n",
    "\n",
    "# AND-NOT gate using MP neuron (X1 AND NOT X2)\n",
    "def and_not(x1, x2):\n",
    "    weights = [1, -1]\n",
    "    threshold = 1\n",
    "    inputs = np.array([x1, x2])\n",
    "    output = mp_neuron(inputs, weights, threshold)\n",
    "    return output\n",
    "\n",
    "# Test the AND-NOT gate\n",
    "print(\"X1\\t X2\\t Out\")\n",
    "print(0, '\\t', 0, '\\t', and_not(0, 0))\n",
    "print(1, '\\t', 0, '\\t', and_not(1, 0))\n",
    "print(0, '\\t', 1, '\\t', and_not(0, 1))\n",
    "print(1, '\\t', 1, '\\t', and_not(1, 1))\n"
   ]
  },
  {
   "cell_type": "code",
   "execution_count": null,
   "id": "98dd0926",
   "metadata": {},
   "outputs": [],
   "source": []
  }
 ],
 "metadata": {
  "kernelspec": {
   "display_name": "Python 3 (ipykernel)",
   "language": "python",
   "name": "python3"
  },
  "language_info": {
   "codemirror_mode": {
    "name": "ipython",
    "version": 3
   },
   "file_extension": ".py",
   "mimetype": "text/x-python",
   "name": "python",
   "nbconvert_exporter": "python",
   "pygments_lexer": "ipython3",
   "version": "3.11.5"
  }
 },
 "nbformat": 4,
 "nbformat_minor": 5
}
